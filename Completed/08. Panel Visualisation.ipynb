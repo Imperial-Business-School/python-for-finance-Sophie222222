{
 "cells": [
  {
   "attachments": {},
   "cell_type": "markdown",
   "metadata": {},
   "source": [
    "# Multi Stock Analysis\n",
    "\n",
    "Let's work with some multiple stock panel data now. We'll use the same libraries as before, but we'll also introduce `seaborn` - another increasingly popular visualisation library. Again, we'll start with all of our imports.\n"
   ]
  },
  {
   "cell_type": "code",
   "execution_count": 10,
   "metadata": {},
   "outputs": [],
   "source": [
    "import pandas as pd\n",
    "import numpy as np\n",
    "import matplotlib.pyplot as plt\n",
    "import seaborn as sns # <- would you have guessed sns ?\n",
    "\n",
    "plt.style.use(\"ggplot\")"
   ]
  },
  {
   "attachments": {},
   "cell_type": "markdown",
   "metadata": {},
   "source": [
    "Let's load the panel data as normal."
   ]
  },
  {
   "cell_type": "code",
   "execution_count": 11,
   "metadata": {},
   "outputs": [
    {
     "data": {
      "application/vnd.microsoft.datawrangler.viewer.v0+json": {
       "columns": [
        {
         "name": "index",
         "rawType": "int64",
         "type": "integer"
        },
        {
         "name": "DlyCalDt",
         "rawType": "datetime64[ns]",
         "type": "datetime"
        },
        {
         "name": "Ticker",
         "rawType": "object",
         "type": "string"
        },
        {
         "name": "DlyClose",
         "rawType": "float64",
         "type": "float"
        },
        {
         "name": "DlyHigh",
         "rawType": "float64",
         "type": "float"
        },
        {
         "name": "DlyLow",
         "rawType": "float64",
         "type": "float"
        },
        {
         "name": "DlyOpen",
         "rawType": "float64",
         "type": "float"
        },
        {
         "name": "DlyVolume",
         "rawType": "int64",
         "type": "integer"
        }
       ],
       "ref": "ebdccc29-7b3c-4d17-83b1-73291a21d630",
       "rows": [
        [
         "0",
         "2020-01-02 00:00:00",
         "AAPL",
         "72.62083435058594",
         "72.68128119000231",
         "71.37321069958021",
         "71.62708447362316",
         "135480400"
        ],
        [
         "1",
         "2020-01-03 00:00:00",
         "AAPL",
         "71.9148178100586",
         "72.67644657227763",
         "71.68995732022762",
         "71.84711763961168",
         "146322800"
        ],
        [
         "2",
         "2020-01-06 00:00:00",
         "AAPL",
         "72.48783874511719",
         "72.52652560345562",
         "70.7832410162985",
         "71.0347019061165",
         "118387200"
        ],
        [
         "3",
         "2020-01-07 00:00:00",
         "AAPL",
         "72.14692687988281",
         "72.753808076937",
         "71.92689951821663",
         "72.49751409054869",
         "108872000"
        ],
        [
         "4",
         "2020-01-08 00:00:00",
         "AAPL",
         "73.30750274658203",
         "73.60973691556963",
         "71.84952541053639",
         "71.84952541053639",
         "132079200"
        ],
        [
         "5",
         "2020-01-09 00:00:00",
         "AAPL",
         "74.86463165283203",
         "75.058058615668",
         "74.0353026659935",
         "74.28675624192712",
         "170108400"
        ],
        [
         "6",
         "2020-01-10 00:00:00",
         "AAPL",
         "75.03388214111328",
         "75.59967116208304",
         "74.53096758540974",
         "75.09916946286842",
         "140644800"
        ],
        [
         "7",
         "2020-01-13 00:00:00",
         "AAPL",
         "76.63692474365234",
         "76.66352519200935",
         "75.23214067732687",
         "75.35062150930146",
         "121532000"
        ],
        [
         "8",
         "2020-01-14 00:00:00",
         "AAPL",
         "75.6020736694336",
         "76.78441745974806",
         "75.47876712733354",
         "76.57406362681236",
         "161954400"
        ],
        [
         "9",
         "2020-01-15 00:00:00",
         "AAPL",
         "75.27809143066406",
         "76.28392794287467",
         "74.84528990021097",
         "75.4014053711113",
         "121923600"
        ],
        [
         "10",
         "2020-01-16 00:00:00",
         "AAPL",
         "76.22106170654297",
         "76.33228922922538",
         "75.45943283140988",
         "75.82211395087957",
         "108829200"
        ],
        [
         "11",
         "2020-01-17 00:00:00",
         "AAPL",
         "77.06488037109375",
         "77.06729322689777",
         "76.16301095015437",
         "76.47007821096346",
         "137816400"
        ],
        [
         "12",
         "2020-01-21 00:00:00",
         "AAPL",
         "76.5426254272461",
         "77.1350000250309",
         "76.40480486276103",
         "76.69253240808335",
         "110843200"
        ],
        [
         "13",
         "2020-01-22 00:00:00",
         "AAPL",
         "76.81585693359375",
         "77.3695447452734",
         "76.72155630946642",
         "77.02862363912672",
         "101832400"
        ],
        [
         "14",
         "2020-01-23 00:00:00",
         "AAPL",
         "77.18577575683594",
         "77.26556233295065",
         "76.32017294133449",
         "76.86903492947071",
         "104472000"
        ],
        [
         "15",
         "2020-01-24 00:00:00",
         "AAPL",
         "76.96334075927734",
         "78.17711075717362",
         "76.77232666197627",
         "77.43240886934917",
         "146537600"
        ],
        [
         "16",
         "2020-01-27 00:00:00",
         "AAPL",
         "74.70021057128906",
         "75.38204534370864",
         "73.71613420898714",
         "74.96859100895418",
         "161940000"
        ],
        [
         "17",
         "2020-01-28 00:00:00",
         "AAPL",
         "76.81343078613281",
         "76.98509775416542",
         "75.48360024038988",
         "75.58273394834251",
         "162234000"
        ],
        [
         "18",
         "2020-01-29 00:00:00",
         "AAPL",
         "78.42131805419922",
         "79.2699941203994",
         "77.70562947444549",
         "78.44791850299463",
         "216229200"
        ],
        [
         "19",
         "2020-01-30 00:00:00",
         "AAPL",
         "78.30767059326172",
         "78.36086410726632",
         "77.06972049871605",
         "77.50252193635508",
         "126743200"
        ],
        [
         "20",
         "2020-01-31 00:00:00",
         "AAPL",
         "74.83562469482422",
         "78.01996079771159",
         "74.54064375527754",
         "77.59683282419269",
         "199588400"
        ],
        [
         "21",
         "2020-02-03 00:00:00",
         "AAPL",
         "74.63008880615234",
         "75.79791852993898",
         "73.07297758859362",
         "73.57589206005755",
         "173788400"
        ],
        [
         "22",
         "2020-02-04 00:00:00",
         "AAPL",
         "77.09390258789062",
         "77.28491667175436",
         "75.83177225101083",
         "76.23797325215806",
         "136616400"
        ],
        [
         "23",
         "2020-02-05 00:00:00",
         "AAPL",
         "77.72254943847656",
         "78.52286500581071",
         "77.11808104147103",
         "78.22304366333603",
         "118826800"
        ],
        [
         "24",
         "2020-02-06 00:00:00",
         "AAPL",
         "78.63166046142578",
         "78.63408069608217",
         "77.4348175300206",
         "77.99334570709586",
         "105425600"
        ],
        [
         "25",
         "2020-02-07 00:00:00",
         "AAPL",
         "77.56285095214844",
         "78.3796069749616",
         "77.07085803475874",
         "78.12997524636046",
         "117684000"
        ],
        [
         "26",
         "2020-02-10 00:00:00",
         "AAPL",
         "77.93123626708984",
         "77.93123626708984",
         "76.06505957583339",
         "76.14503551271558",
         "109348800"
        ],
        [
         "27",
         "2020-02-11 00:00:00",
         "AAPL",
         "77.4610595703125",
         "78.500791189116",
         "77.24293596960018",
         "78.42808578763751",
         "94323200"
        ],
        [
         "28",
         "2020-02-12 00:00:00",
         "AAPL",
         "79.30058288574219",
         "79.30542744679461",
         "77.91185062961374",
         "77.91185062961374",
         "113730400"
        ],
        [
         "29",
         "2020-02-13 00:00:00",
         "AAPL",
         "78.73589324951172",
         "79.06308239609403",
         "78.36750683488538",
         "78.57108938477977",
         "94747600"
        ],
        [
         "30",
         "2020-02-14 00:00:00",
         "AAPL",
         "78.7552719116211",
         "79.00490364230242",
         "78.24631193166864",
         "78.70437073623225",
         "80113600"
        ],
        [
         "31",
         "2020-02-18 00:00:00",
         "AAPL",
         "77.31322479248047",
         "77.49499569716498",
         "76.24925554684746",
         "76.43102645153198",
         "152531200"
        ],
        [
         "32",
         "2020-02-19 00:00:00",
         "AAPL",
         "78.43292236328125",
         "78.66316843831524",
         "77.55557609214306",
         "77.55557609214306",
         "93984000"
        ],
        [
         "33",
         "2020-02-20 00:00:00",
         "AAPL",
         "77.6282958984375",
         "78.68256868592816",
         "77.12176183559734",
         "78.19300168361448",
         "100566000"
        ],
        [
         "34",
         "2020-02-21 00:00:00",
         "AAPL",
         "75.87117767333984",
         "77.66465663516524",
         "75.2531595150605",
         "77.22113145649439",
         "129554000"
        ],
        [
         "35",
         "2020-02-24 00:00:00",
         "AAPL",
         "72.26725769042969",
         "73.72142482703582",
         "70.09812948275813",
         "72.04428953806494",
         "222195200"
        ],
        [
         "36",
         "2020-02-25 00:00:00",
         "AAPL",
         "69.81941223144531",
         "73.3215345796045",
         "69.34681232251152",
         "72.93860713253768",
         "230673600"
        ],
        [
         "37",
         "2020-02-26 00:00:00",
         "AAPL",
         "70.92699432373047",
         "72.1945458948115",
         "69.43647462004233",
         "69.44374515923005",
         "198054800"
        ],
        [
         "38",
         "2020-02-27 00:00:00",
         "AAPL",
         "66.29063415527344",
         "69.31530465753468",
         "66.15491247212168",
         "68.12773623181833",
         "320605600"
        ],
        [
         "39",
         "2020-02-28 00:00:00",
         "AAPL",
         "66.25183868408203",
         "67.47576689739286",
         "62.13412521989558",
         "62.3498301879761",
         "426510000"
        ],
        [
         "40",
         "2020-03-02 00:00:00",
         "AAPL",
         "72.41996002197266",
         "73.05737125328037",
         "67.30856246455294",
         "68.41372910419624",
         "341397200"
        ],
        [
         "41",
         "2020-03-03 00:00:00",
         "AAPL",
         "70.11993408203125",
         "73.67779421161765",
         "69.26681804701707",
         "73.59781828147297",
         "319475600"
        ],
        [
         "42",
         "2020-03-04 00:00:00",
         "AAPL",
         "73.37242889404297",
         "73.53238817702517",
         "71.04334126232827",
         "71.84555625982283",
         "219178400"
        ],
        [
         "43",
         "2020-03-05 00:00:00",
         "AAPL",
         "70.99243927001953",
         "72.59928766176252",
         "70.62647152568951",
         "71.62257241363193",
         "187572800"
        ],
        [
         "44",
         "2020-03-06 00:00:00",
         "AAPL",
         "70.0496826171875",
         "70.48351139268972",
         "68.15926753355247",
         "68.34588306223198",
         "226176800"
        ],
        [
         "45",
         "2020-03-09 00:00:00",
         "AAPL",
         "64.50928497314453",
         "67.3982263851532",
         "63.74099670150596",
         "63.92276760464713",
         "286744800"
        ],
        [
         "46",
         "2020-03-10 00:00:00",
         "AAPL",
         "69.15533447265625",
         "69.42193323548972",
         "65.28482634158217",
         "67.16797734192903",
         "285290000"
        ],
        [
         "47",
         "2020-03-11 00:00:00",
         "AAPL",
         "66.75355529785156",
         "68.15682896396041",
         "65.88832388635639",
         "67.22858865883606",
         "255598800"
        ],
        [
         "48",
         "2020-03-12 00:00:00",
         "AAPL",
         "60.16131591796875",
         "65.43751995097615",
         "60.10557388089661",
         "62.02992228152743",
         "418474000"
        ],
        [
         "49",
         "2020-03-13 00:00:00",
         "AAPL",
         "67.369140625",
         "67.8417479064298",
         "61.30526258468153",
         "64.19905949793468",
         "370732000"
        ]
       ],
       "shape": {
        "columns": 7,
        "rows": 7542
       }
      },
      "text/html": [
       "<div>\n",
       "<style scoped>\n",
       "    .dataframe tbody tr th:only-of-type {\n",
       "        vertical-align: middle;\n",
       "    }\n",
       "\n",
       "    .dataframe tbody tr th {\n",
       "        vertical-align: top;\n",
       "    }\n",
       "\n",
       "    .dataframe thead th {\n",
       "        text-align: right;\n",
       "    }\n",
       "</style>\n",
       "<table border=\"1\" class=\"dataframe\">\n",
       "  <thead>\n",
       "    <tr style=\"text-align: right;\">\n",
       "      <th></th>\n",
       "      <th>DlyCalDt</th>\n",
       "      <th>Ticker</th>\n",
       "      <th>DlyClose</th>\n",
       "      <th>DlyHigh</th>\n",
       "      <th>DlyLow</th>\n",
       "      <th>DlyOpen</th>\n",
       "      <th>DlyVolume</th>\n",
       "    </tr>\n",
       "  </thead>\n",
       "  <tbody>\n",
       "    <tr>\n",
       "      <th>0</th>\n",
       "      <td>2020-01-02</td>\n",
       "      <td>AAPL</td>\n",
       "      <td>72.620834</td>\n",
       "      <td>72.681281</td>\n",
       "      <td>71.373211</td>\n",
       "      <td>71.627084</td>\n",
       "      <td>135480400</td>\n",
       "    </tr>\n",
       "    <tr>\n",
       "      <th>1</th>\n",
       "      <td>2020-01-03</td>\n",
       "      <td>AAPL</td>\n",
       "      <td>71.914818</td>\n",
       "      <td>72.676447</td>\n",
       "      <td>71.689957</td>\n",
       "      <td>71.847118</td>\n",
       "      <td>146322800</td>\n",
       "    </tr>\n",
       "    <tr>\n",
       "      <th>2</th>\n",
       "      <td>2020-01-06</td>\n",
       "      <td>AAPL</td>\n",
       "      <td>72.487839</td>\n",
       "      <td>72.526526</td>\n",
       "      <td>70.783241</td>\n",
       "      <td>71.034702</td>\n",
       "      <td>118387200</td>\n",
       "    </tr>\n",
       "    <tr>\n",
       "      <th>3</th>\n",
       "      <td>2020-01-07</td>\n",
       "      <td>AAPL</td>\n",
       "      <td>72.146927</td>\n",
       "      <td>72.753808</td>\n",
       "      <td>71.926900</td>\n",
       "      <td>72.497514</td>\n",
       "      <td>108872000</td>\n",
       "    </tr>\n",
       "    <tr>\n",
       "      <th>4</th>\n",
       "      <td>2020-01-08</td>\n",
       "      <td>AAPL</td>\n",
       "      <td>73.307503</td>\n",
       "      <td>73.609737</td>\n",
       "      <td>71.849525</td>\n",
       "      <td>71.849525</td>\n",
       "      <td>132079200</td>\n",
       "    </tr>\n",
       "    <tr>\n",
       "      <th>...</th>\n",
       "      <td>...</td>\n",
       "      <td>...</td>\n",
       "      <td>...</td>\n",
       "      <td>...</td>\n",
       "      <td>...</td>\n",
       "      <td>...</td>\n",
       "      <td>...</td>\n",
       "    </tr>\n",
       "    <tr>\n",
       "      <th>7537</th>\n",
       "      <td>2024-12-23</td>\n",
       "      <td>NVDA</td>\n",
       "      <td>139.657150</td>\n",
       "      <td>139.777134</td>\n",
       "      <td>135.107566</td>\n",
       "      <td>136.267463</td>\n",
       "      <td>176053500</td>\n",
       "    </tr>\n",
       "    <tr>\n",
       "      <th>7538</th>\n",
       "      <td>2024-12-24</td>\n",
       "      <td>NVDA</td>\n",
       "      <td>140.207108</td>\n",
       "      <td>141.886946</td>\n",
       "      <td>138.637245</td>\n",
       "      <td>139.987127</td>\n",
       "      <td>105157000</td>\n",
       "    </tr>\n",
       "    <tr>\n",
       "      <th>7539</th>\n",
       "      <td>2024-12-26</td>\n",
       "      <td>NVDA</td>\n",
       "      <td>139.917130</td>\n",
       "      <td>140.837058</td>\n",
       "      <td>137.717335</td>\n",
       "      <td>139.687155</td>\n",
       "      <td>116205600</td>\n",
       "    </tr>\n",
       "    <tr>\n",
       "      <th>7540</th>\n",
       "      <td>2024-12-27</td>\n",
       "      <td>NVDA</td>\n",
       "      <td>136.997391</td>\n",
       "      <td>139.007216</td>\n",
       "      <td>134.697615</td>\n",
       "      <td>138.537258</td>\n",
       "      <td>170582600</td>\n",
       "    </tr>\n",
       "    <tr>\n",
       "      <th>7541</th>\n",
       "      <td>2024-12-30</td>\n",
       "      <td>NVDA</td>\n",
       "      <td>137.477356</td>\n",
       "      <td>140.257099</td>\n",
       "      <td>134.007674</td>\n",
       "      <td>134.817597</td>\n",
       "      <td>167734700</td>\n",
       "    </tr>\n",
       "  </tbody>\n",
       "</table>\n",
       "<p>7542 rows × 7 columns</p>\n",
       "</div>"
      ],
      "text/plain": [
       "       DlyCalDt Ticker    DlyClose     DlyHigh      DlyLow     DlyOpen  \\\n",
       "0    2020-01-02   AAPL   72.620834   72.681281   71.373211   71.627084   \n",
       "1    2020-01-03   AAPL   71.914818   72.676447   71.689957   71.847118   \n",
       "2    2020-01-06   AAPL   72.487839   72.526526   70.783241   71.034702   \n",
       "3    2020-01-07   AAPL   72.146927   72.753808   71.926900   72.497514   \n",
       "4    2020-01-08   AAPL   73.307503   73.609737   71.849525   71.849525   \n",
       "...         ...    ...         ...         ...         ...         ...   \n",
       "7537 2024-12-23   NVDA  139.657150  139.777134  135.107566  136.267463   \n",
       "7538 2024-12-24   NVDA  140.207108  141.886946  138.637245  139.987127   \n",
       "7539 2024-12-26   NVDA  139.917130  140.837058  137.717335  139.687155   \n",
       "7540 2024-12-27   NVDA  136.997391  139.007216  134.697615  138.537258   \n",
       "7541 2024-12-30   NVDA  137.477356  140.257099  134.007674  134.817597   \n",
       "\n",
       "      DlyVolume  \n",
       "0     135480400  \n",
       "1     146322800  \n",
       "2     118387200  \n",
       "3     108872000  \n",
       "4     132079200  \n",
       "...         ...  \n",
       "7537  176053500  \n",
       "7538  105157000  \n",
       "7539  116205600  \n",
       "7540  170582600  \n",
       "7541  167734700  \n",
       "\n",
       "[7542 rows x 7 columns]"
      ]
     },
     "execution_count": 11,
     "metadata": {},
     "output_type": "execute_result"
    }
   ],
   "source": [
    "df = pd.read_csv(\"../data/top_six_2020_2025.csv\")\n",
    "df.DlyCalDt = pd.to_datetime(df.DlyCalDt, dayfirst=True)\n",
    "df"
   ]
  },
  {
   "attachments": {},
   "cell_type": "markdown",
   "metadata": {},
   "source": [
    "Let's say we wanted to visualise the closing prices of all the stocks in our data set. Reshaping our **long** data to **wide** makes plotting *really* straightforward.\n",
    "\n",
    "*(Note this doesn't follow the best practice of using object oriented Matplotlib, but it's very cool)*"
   ]
  },
  {
   "cell_type": "code",
   "execution_count": 12,
   "metadata": {},
   "outputs": [
    {
     "name": "stdout",
     "output_type": "stream",
     "text": [
      "Ticker            AAPL        AMZN       GOOGL        META        MSFT  \\\n",
      "DlyCalDt                                                                 \n",
      "2020-01-02   72.620834   94.900497   68.026016  208.795944  153.042328   \n",
      "2020-01-03   71.914818   93.748497   67.670143  207.691147  151.136658   \n",
      "2020-01-06   72.487839   95.143997   69.473846  211.602722  151.527298   \n",
      "2020-01-07   72.146927   95.343002   69.339645  212.060547  150.145737   \n",
      "2020-01-08   73.307503   94.598503   69.833183  214.210419  152.537277   \n",
      "...                ...         ...         ...         ...         ...   \n",
      "2024-12-23  254.655716  225.059998  194.171051  599.316772  433.583038   \n",
      "2024-12-24  257.578674  229.050003  195.647552  607.209778  437.647369   \n",
      "2024-12-26  258.396667  227.050003  195.138763  602.813660  436.432068   \n",
      "2024-12-27  254.974930  223.750000  192.305450  599.276855  428.881104   \n",
      "2024-12-30  251.593079  221.300003  190.789032  590.714417  423.202911   \n",
      "\n",
      "Ticker            NVDA  \n",
      "DlyCalDt                \n",
      "2020-01-02    5.972161  \n",
      "2020-01-03    5.876571  \n",
      "2020-01-06    5.901216  \n",
      "2020-01-07    5.972660  \n",
      "2020-01-08    5.983861  \n",
      "...                ...  \n",
      "2024-12-23  139.657150  \n",
      "2024-12-24  140.207108  \n",
      "2024-12-26  139.917130  \n",
      "2024-12-27  136.997391  \n",
      "2024-12-30  137.477356  \n",
      "\n",
      "[1257 rows x 6 columns]\n"
     ]
    },
    {
     "data": {
      "image/png": "[encoded data removed]",
      "text/plain": [
       "<Figure size 640x480 with 1 Axes>"
      ]
     },
     "metadata": {},
     "output_type": "display_data"
    }
   ],
   "source": [
    "pivot_df = df.pivot(index=\"DlyCalDt\", columns='Ticker', values='DlyClose')\n",
    "print(pivot_df)\n",
    "\n",
    "pivot_df.plot()\n",
    "plt.title('Closing Prices of All Stocks')\n",
    "plt.ylabel('Price')\n",
    "plt.show()"
   ]
  },
  {
   "attachments": {},
   "cell_type": "markdown",
   "metadata": {},
   "source": [
    "To understand the relationship between the daily returns of different stocks, we've previously used a correlation matrix. After finding daily returns and calculating the correlation with `corr()`,  we can use `seaborn`'s `heatmap()` to visualise it.\n"
   ]
  },
  {
   "cell_type": "code",
   "execution_count": 14,
   "metadata": {},
   "outputs": [
    {
     "data": {
      "image/png": "[encoded data removed]",
      "text/plain": [
       "<Figure size 1000x700 with 2 Axes>"
      ]
     },
     "metadata": {},
     "output_type": "display_data"
    },
    {
     "data": {
      "application/vnd.microsoft.datawrangler.viewer.v0+json": {
       "columns": [
        {
         "name": "DlyCalDt",
         "rawType": "datetime64[ns]",
         "type": "datetime"
        },
        {
         "name": "AAPL",
         "rawType": "float64",
         "type": "float"
        },
        {
         "name": "AMZN",
         "rawType": "float64",
         "type": "float"
        },
        {
         "name": "GOOGL",
         "rawType": "float64",
         "type": "float"
        },
        {
         "name": "META",
         "rawType": "float64",
         "type": "float"
        },
        {
         "name": "MSFT",
         "rawType": "float64",
         "type": "float"
        },
        {
         "name": "NVDA",
         "rawType": "float64",
         "type": "float"
        }
       ],
       "ref": "8af9fa7c-4fcd-4cdb-af04-5e8db3aff8d4",
       "rows": [
        [
         "2020-01-02 00:00:00",
         "72.62083435058594",
         "94.90049743652344",
         "68.02601623535156",
         "208.7959442138672",
         "153.04232788085938",
         "5.972161293029785"
        ],
        [
         "2020-01-03 00:00:00",
         "71.9148178100586",
         "93.74849700927734",
         "67.6701431274414",
         "207.69114685058597",
         "151.13665771484375",
         "5.876570701599121"
        ],
        [
         "2020-01-06 00:00:00",
         "72.48783874511719",
         "95.1439971923828",
         "69.47384643554688",
         "211.60272216796875",
         "151.5272979736328",
         "5.901215553283691"
        ],
        [
         "2020-01-07 00:00:00",
         "72.14692687988281",
         "95.34300231933594",
         "69.33964538574219",
         "212.060546875",
         "150.14573669433594",
         "5.972659587860107"
        ],
        [
         "2020-01-08 00:00:00",
         "73.30750274658203",
         "94.59850311279295",
         "69.83318328857422",
         "214.21041870117188",
         "152.5372772216797",
         "5.983860969543457"
        ],
        [
         "2020-01-09 00:00:00",
         "74.86463165283203",
         "95.05249786376952",
         "70.56629180908203",
         "217.27598571777344",
         "154.4429473876953",
         "6.049580097198486"
        ],
        [
         "2020-01-10 00:00:00",
         "75.03388214111328",
         "94.15799713134766",
         "71.02205657958984",
         "217.037109375",
         "153.7283172607422",
         "6.081942081451416"
        ],
        [
         "2020-01-13 00:00:00",
         "76.63692474365234",
         "94.56500244140624",
         "71.57225799560547",
         "220.8690490722656",
         "155.57679748535156",
         "6.272624492645264"
        ],
        [
         "2020-01-14 00:00:00",
         "75.6020736694336",
         "93.47200012207033",
         "71.10308074951172",
         "218.03240966796875",
         "154.4810791015625",
         "6.15562629699707"
        ],
        [
         "2020-01-15 00:00:00",
         "75.27809143066406",
         "93.10099792480467",
         "71.531005859375",
         "220.1125946044922",
         "155.48153686523438",
         "6.1130571365356445"
        ],
        [
         "2020-01-16 00:00:00",
         "76.22106170654297",
         "93.89700317382812",
         "72.07573699951172",
         "220.72970581054688",
         "158.33047485351562",
         "6.196699619293213"
        ],
        [
         "2020-01-17 00:00:00",
         "77.06488037109375",
         "93.23600006103516",
         "73.53498077392578",
         "221.09796142578125",
         "159.21661376953125",
         "6.205411434173584"
        ],
        [
         "2020-01-21 00:00:00",
         "76.5426254272461",
         "94.5999984741211",
         "73.6706771850586",
         "220.4012451171875",
         "158.64486694335938",
         "6.172055244445801"
        ],
        [
         "2020-01-22 00:00:00",
         "76.81585693359375",
         "94.3730010986328",
         "73.75118255615234",
         "220.2818145751953",
         "157.88262939453125",
         "6.226073265075684"
        ],
        [
         "2020-01-23 00:00:00",
         "77.18577575683594",
         "94.22899627685548",
         "73.79193878173828",
         "218.7291259765625",
         "158.85452270507812",
         "6.294530391693115"
        ],
        [
         "2020-01-24 00:00:00",
         "76.96334075927734",
         "93.08200073242188",
         "72.87146759033203",
         "216.91766357421875",
         "157.25375366210938",
         "6.235284328460693"
        ],
        [
         "2020-01-27 00:00:00",
         "74.70021057128906",
         "91.41699981689452",
         "71.15972900390625",
         "213.862060546875",
         "154.62400817871094",
         "5.9793806076049805"
        ],
        [
         "2020-01-28 00:00:00",
         "76.81343078613281",
         "92.6624984741211",
         "72.09263610839844",
         "216.76837158203125",
         "157.65396118164062",
         "6.172802448272705"
        ],
        [
         "2020-01-29 00:00:00",
         "78.42131805419922",
         "92.9000015258789",
         "72.40079498291016",
         "222.18284606933597",
         "160.11224365234375",
         "6.112310886383057"
        ],
        [
         "2020-01-30 00:00:00",
         "78.30767059326172",
         "93.53399658203124",
         "72.27901458740234",
         "208.547119140625",
         "164.62863159179688",
         "6.119032382965088"
        ],
        [
         "2020-01-31 00:00:00",
         "74.83562469482422",
         "100.43599700927734",
         "71.2119140625",
         "200.9628753662109",
         "162.19891357421875",
         "5.885532855987549"
        ],
        [
         "2020-02-03 00:00:00",
         "74.63008880615234",
         "100.20999908447266",
         "73.68806457519531",
         "203.232177734375",
         "166.15313720703125",
         "5.9826178550720215"
        ],
        [
         "2020-02-04 00:00:00",
         "77.09390258789062",
         "102.4834976196289",
         "71.83965301513672",
         "208.84571838378903",
         "171.62232971191406",
         "6.151890754699707"
        ],
        [
         "2020-02-05 00:00:00",
         "77.72254943847656",
         "101.99349975585938",
         "71.87145233154297",
         "209.1243896484375",
         "171.41268920898438",
         "6.242254257202148"
        ],
        [
         "2020-02-06 00:00:00",
         "78.63166046142578",
         "102.5114974975586",
         "73.35855865478516",
         "209.8609161376953",
         "174.9667510986328",
         "6.329131603240967"
        ],
        [
         "2020-02-07 00:00:00",
         "77.56285095214844",
         "103.96399688720705",
         "73.51461029052734",
         "211.333984375",
         "175.2144775390625",
         "6.262915134429932"
        ],
        [
         "2020-02-10 00:00:00",
         "77.93123626708984",
         "106.69550323486328",
         "74.9832992553711",
         "212.060546875",
         "179.79757690429688",
         "6.546201229095459"
        ],
        [
         "2020-02-11 00:00:00",
         "77.4610595703125",
         "107.54000091552734",
         "75.05288696289062",
         "206.2180938720703",
         "175.73849487304688",
         "6.668676853179932"
        ],
        [
         "2020-02-12 00:00:00",
         "79.30058288574219",
         "108.0",
         "75.47883605957031",
         "209.7713623046875",
         "175.99581909179688",
         "6.784431457519531"
        ],
        [
         "2020-02-13 00:00:00",
         "78.73589324951172",
         "107.49349975585938",
         "75.21839141845703",
         "212.1401824951172",
         "175.04293823242188",
         "6.74061918258667"
        ],
        [
         "2020-02-14 00:00:00",
         "78.7552719116211",
         "106.74349975585938",
         "75.48379516601562",
         "213.17529296875",
         "176.6055908203125",
         "7.213841438293457"
        ],
        [
         "2020-02-18 00:00:00",
         "77.31322479248047",
         "107.78350067138672",
         "75.51908874511719",
         "216.7783203125",
         "178.3969268798828",
         "7.382616996765137"
        ],
        [
         "2020-02-19 00:00:00",
         "78.43292236328125",
         "108.51100158691406",
         "75.7889633178711",
         "216.4697723388672",
         "178.9319305419922",
         "7.833934307098389"
        ],
        [
         "2020-02-20 00:00:00",
         "77.6282958984375",
         "107.65499877929688",
         "75.3973159790039",
         "213.5734100341797",
         "176.19937133789062",
         "7.684575080871582"
        ],
        [
         "2020-02-21 00:00:00",
         "75.87117767333984",
         "104.79850006103516",
         "73.7308120727539",
         "209.1940460205078",
         "170.6292724609375",
         "7.320384979248047"
        ],
        [
         "2020-02-24 00:00:00",
         "72.26725769042969",
         "100.4645004272461",
         "70.56977081298828",
         "199.7784423828125",
         "163.2725372314453",
         "6.802850723266602"
        ],
        [
         "2020-02-25 00:00:00",
         "69.81941223144531",
         "98.63700103759766",
         "68.90277099609375",
         "195.84698486328125",
         "160.57823181152344",
         "6.523299694061279"
        ],
        [
         "2020-02-26 00:00:00",
         "70.92699432373047",
         "98.97949981689452",
         "69.1090316772461",
         "196.2749481201172",
         "162.58460998535156",
         "6.662702560424805"
        ],
        [
         "2020-02-27 00:00:00",
         "66.29063415527344",
         "94.21499633789062",
         "65.35554504394531",
         "188.85989379882807",
         "151.12905883789062",
         "6.291818618774414"
        ],
        [
         "2020-02-28 00:00:00",
         "66.25183868408203",
         "94.1875",
         "66.56329345703125",
         "191.5671539306641",
         "154.78836059570312",
         "6.726964473724365"
        ],
        [
         "2020-03-02 00:00:00",
         "72.41996002197266",
         "97.69750213623048",
         "68.90277099609375",
         "195.51852416992188",
         "165.08782958984375",
         "6.885383129119873"
        ],
        [
         "2020-03-03 00:00:00",
         "70.11993408203125",
         "95.44950103759766",
         "66.48725891113281",
         "185.0180206298828",
         "157.1769256591797",
         "6.622849941253662"
        ],
        [
         "2020-03-04 00:00:00",
         "73.37242889404297",
         "98.79149627685548",
         "68.66816711425781",
         "190.86045837402344",
         "162.94766235351562",
         "7.08664083480835"
        ],
        [
         "2020-03-05 00:00:00",
         "70.99243927001953",
         "96.20149993896484",
         "65.34610748291016",
         "184.30137634277344",
         "158.8584747314453",
         "6.807170391082764"
        ],
        [
         "2020-03-06 00:00:00",
         "70.0496826171875",
         "95.05449676513672",
         "64.40076446533203",
         "180.24050903320312",
         "154.3679656982422",
         "6.626585483551025"
        ],
        [
         "2020-03-09 00:00:00",
         "64.50928497314453",
         "90.03050231933594",
         "60.42710113525391",
         "168.70489501953125",
         "143.9060516357422",
         "6.113476753234863"
        ],
        [
         "2020-03-10 00:00:00",
         "69.15533447265625",
         "94.59100341796876",
         "63.37839889526367",
         "177.35414123535156",
         "153.7469482421875",
         "6.503040790557861"
        ],
        [
         "2020-03-11 00:00:00",
         "66.75355529785156",
         "91.04299926757812",
         "60.18405532836914",
         "169.44143676757812",
         "146.78192138671875",
         "6.139132499694824"
        ],
        [
         "2020-03-12 00:00:00",
         "60.16131591796875",
         "83.83049774169922",
         "55.24617004394531",
         "153.74539184570312",
         "132.86131286621094",
         "5.387899398803711"
        ],
        [
         "2020-03-13 00:00:00",
         "67.369140625",
         "89.25",
         "60.3515510559082",
         "169.48123168945312",
         "151.7500762939453",
         "5.998897552490234"
        ]
       ],
       "shape": {
        "columns": 6,
        "rows": 1257
       }
      },
      "text/html": [
       "<div>\n",
       "<style scoped>\n",
       "    .dataframe tbody tr th:only-of-type {\n",
       "        vertical-align: middle;\n",
       "    }\n",
       "\n",
       "    .dataframe tbody tr th {\n",
       "        vertical-align: top;\n",
       "    }\n",
       "\n",
       "    .dataframe thead th {\n",
       "        text-align: right;\n",
       "    }\n",
       "</style>\n",
       "<table border=\"1\" class=\"dataframe\">\n",
       "  <thead>\n",
       "    <tr style=\"text-align: right;\">\n",
       "      <th>Ticker</th>\n",
       "      <th>AAPL</th>\n",
       "      <th>AMZN</th>\n",
       "      <th>GOOGL</th>\n",
       "      <th>META</th>\n",
       "      <th>MSFT</th>\n",
       "      <th>NVDA</th>\n",
       "    </tr>\n",
       "    <tr>\n",
       "      <th>DlyCalDt</th>\n",
       "      <th></th>\n",
       "      <th></th>\n",
       "      <th></th>\n",
       "      <th></th>\n",
       "      <th></th>\n",
       "      <th></th>\n",
       "    </tr>\n",
       "  </thead>\n",
       "  <tbody>\n",
       "    <tr>\n",
       "      <th>2020-01-02</th>\n",
       "      <td>72.620834</td>\n",
       "      <td>94.900497</td>\n",
       "      <td>68.026016</td>\n",
       "      <td>208.795944</td>\n",
       "      <td>153.042328</td>\n",
       "      <td>5.972161</td>\n",
       "    </tr>\n",
       "    <tr>\n",
       "      <th>2020-01-03</th>\n",
       "      <td>71.914818</td>\n",
       "      <td>93.748497</td>\n",
       "      <td>67.670143</td>\n",
       "      <td>207.691147</td>\n",
       "      <td>151.136658</td>\n",
       "      <td>5.876571</td>\n",
       "    </tr>\n",
       "    <tr>\n",
       "      <th>2020-01-06</th>\n",
       "      <td>72.487839</td>\n",
       "      <td>95.143997</td>\n",
       "      <td>69.473846</td>\n",
       "      <td>211.602722</td>\n",
       "      <td>151.527298</td>\n",
       "      <td>5.901216</td>\n",
       "    </tr>\n",
       "    <tr>\n",
       "      <th>2020-01-07</th>\n",
       "      <td>72.146927</td>\n",
       "      <td>95.343002</td>\n",
       "      <td>69.339645</td>\n",
       "      <td>212.060547</td>\n",
       "      <td>150.145737</td>\n",
       "      <td>5.972660</td>\n",
       "    </tr>\n",
       "    <tr>\n",
       "      <th>2020-01-08</th>\n",
       "      <td>73.307503</td>\n",
       "      <td>94.598503</td>\n",
       "      <td>69.833183</td>\n",
       "      <td>214.210419</td>\n",
       "      <td>152.537277</td>\n",
       "      <td>5.983861</td>\n",
       "    </tr>\n",
       "    <tr>\n",
       "      <th>...</th>\n",
       "      <td>...</td>\n",
       "      <td>...</td>\n",
       "      <td>...</td>\n",
       "      <td>...</td>\n",
       "      <td>...</td>\n",
       "      <td>...</td>\n",
       "    </tr>\n",
       "    <tr>\n",
       "      <th>2024-12-23</th>\n",
       "      <td>254.655716</td>\n",
       "      <td>225.059998</td>\n",
       "      <td>194.171051</td>\n",
       "      <td>599.316772</td>\n",
       "      <td>433.583038</td>\n",
       "      <td>139.657150</td>\n",
       "    </tr>\n",
       "    <tr>\n",
       "      <th>2024-12-24</th>\n",
       "      <td>257.578674</td>\n",
       "      <td>229.050003</td>\n",
       "      <td>195.647552</td>\n",
       "      <td>607.209778</td>\n",
       "      <td>437.647369</td>\n",
       "      <td>140.207108</td>\n",
       "    </tr>\n",
       "    <tr>\n",
       "      <th>2024-12-26</th>\n",
       "      <td>258.396667</td>\n",
       "      <td>227.050003</td>\n",
       "      <td>195.138763</td>\n",
       "      <td>602.813660</td>\n",
       "      <td>436.432068</td>\n",
       "      <td>139.917130</td>\n",
       "    </tr>\n",
       "    <tr>\n",
       "      <th>2024-12-27</th>\n",
       "      <td>254.974930</td>\n",
       "      <td>223.750000</td>\n",
       "      <td>192.305450</td>\n",
       "      <td>599.276855</td>\n",
       "      <td>428.881104</td>\n",
       "      <td>136.997391</td>\n",
       "    </tr>\n",
       "    <tr>\n",
       "      <th>2024-12-30</th>\n",
       "      <td>251.593079</td>\n",
       "      <td>221.300003</td>\n",
       "      <td>190.789032</td>\n",
       "      <td>590.714417</td>\n",
       "      <td>423.202911</td>\n",
       "      <td>137.477356</td>\n",
       "    </tr>\n",
       "  </tbody>\n",
       "</table>\n",
       "<p>1257 rows × 6 columns</p>\n",
       "</div>"
      ],
      "text/plain": [
       "Ticker            AAPL        AMZN       GOOGL        META        MSFT  \\\n",
       "DlyCalDt                                                                 \n",
       "2020-01-02   72.620834   94.900497   68.026016  208.795944  153.042328   \n",
       "2020-01-03   71.914818   93.748497   67.670143  207.691147  151.136658   \n",
       "2020-01-06   72.487839   95.143997   69.473846  211.602722  151.527298   \n",
       "2020-01-07   72.146927   95.343002   69.339645  212.060547  150.145737   \n",
       "2020-01-08   73.307503   94.598503   69.833183  214.210419  152.537277   \n",
       "...                ...         ...         ...         ...         ...   \n",
       "2024-12-23  254.655716  225.059998  194.171051  599.316772  433.583038   \n",
       "2024-12-24  257.578674  229.050003  195.647552  607.209778  437.647369   \n",
       "2024-12-26  258.396667  227.050003  195.138763  602.813660  436.432068   \n",
       "2024-12-27  254.974930  223.750000  192.305450  599.276855  428.881104   \n",
       "2024-12-30  251.593079  221.300003  190.789032  590.714417  423.202911   \n",
       "\n",
       "Ticker            NVDA  \n",
       "DlyCalDt                \n",
       "2020-01-02    5.972161  \n",
       "2020-01-03    5.876571  \n",
       "2020-01-06    5.901216  \n",
       "2020-01-07    5.972660  \n",
       "2020-01-08    5.983861  \n",
       "...                ...  \n",
       "2024-12-23  139.657150  \n",
       "2024-12-24  140.207108  \n",
       "2024-12-26  139.917130  \n",
       "2024-12-27  136.997391  \n",
       "2024-12-30  137.477356  \n",
       "\n",
       "[1257 rows x 6 columns]"
      ]
     },
     "execution_count": 14,
     "metadata": {},
     "output_type": "execute_result"
    }
   ],
   "source": [
    "correlation_matrix = pivot_df.pct_change().corr()\n",
    "\n",
    "fig, ax = plt.subplots(figsize=(10,7))\n",
    "sns.heatmap(correlation_matrix, annot=False, cmap='coolwarm', ax=ax)\n",
    "ax.set_title('Correlation Matrix of Daily Returns')\n",
    "plt.show()\n",
    "\n",
    "pivot_df"
   ]
  },
  {
   "attachments": {},
   "cell_type": "markdown",
   "metadata": {},
   "source": [
    "We create a regression plot for AAPL's volume traded versus its closing price. This can help visualise if there's any relationship between the returns of two companies. We use seaborn's regplot function which creates a scatter plot and fits a regression line.\n",
    "\n",
    "In simple regression, we consider two variables - independent (x) and dependent (y). A regression analysis helps us understand how the dependent variable changes with respect to the independent variable.\n"
   ]
  },
  {
   "cell_type": "code",
   "execution_count": null,
   "metadata": {},
   "outputs": [
    {
     "data": {
      "image/png": "[encoded data removed]",
      "text/plain": [
       "<Figure size 1000x700 with 1 Axes>"
      ]
     },
     "metadata": {},
     "output_type": "display_data"
    }
   ],
   "source": [
    "returns_matrix = pivot_df.pct_change()\n",
    "\n",
    "fig, ax = plt.subplots(figsize=(10,7))\n",
    "sns.regplot(x=returns_matrix.MSFT, y=returns_matrix.AAPL, ax=ax)\n",
    "ax.set_title('MSFT and AAPL Regression Plot')\n",
    "ax.set_xlabel('MSFT')\n",
    "ax.set_ylabel('AAPL')\n",
    "plt.show()"
   ]
  },
  {
   "attachments": {},
   "cell_type": "markdown",
   "metadata": {},
   "source": [
    "### Exercise: Double Regression\n",
    "\n",
    "Use subplots to create two regression plots side by side. One should show a strong relationship and the other should show a weak relationship. Refer to the correlation matrix to determine these."
   ]
  },
  {
   "cell_type": "code",
   "execution_count": null,
   "metadata": {},
   "outputs": [],
   "source": [
    "## YOUR CODE GOES HERE"
   ]
  }
 ],
 "metadata": {
  "kernelspec": {
   "display_name": "Python 3",
   "language": "python",
   "name": "python3"
  },
  "language_info": {
   "codemirror_mode": {
    "name": "ipython",
    "version": 3
   },
   "file_extension": ".py",
   "mimetype": "text/x-python",
   "name": "python",
   "nbconvert_exporter": "python",
   "pygments_lexer": "ipython3",
   "version": "3.12.1"
  }
 },
 "nbformat": 4,
 "nbformat_minor": 2
}
