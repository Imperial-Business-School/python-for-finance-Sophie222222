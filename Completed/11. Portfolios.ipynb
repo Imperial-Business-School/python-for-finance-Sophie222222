{
 "cells": [
  {
   "attachments": {},
   "cell_type": "markdown",
   "metadata": {},
   "source": [
    "# Portfolio Management\n",
    "\n",
    "A portfolio is a collection of financial investments. Let's see how we construct, analyse and optimise portfolios with Python. Like with every notebook, this one starts with a list of imports."
   ]
  },
  {
   "cell_type": "code",
   "execution_count": 1,
   "metadata": {},
   "outputs": [],
   "source": [
    "import numpy as np\n",
    "import matplotlib.pyplot as plt\n",
    "import pandas as pd\n",
    "import seaborn as sns\n",
    "import yfinance as yf\n",
    "\n",
    "plt.style.use(\"ggplot\")"
   ]
  },
  {
   "attachments": {},
   "cell_type": "markdown",
   "metadata": {},
   "source": [
    "## Portfolio Formation\n",
    "\n",
    "Today we'll form what is known as a 1/N portfolio, with 5 stocks in it. The 1/N refers to the total investment being divided equally among the N stocks that comprise the portfolio - which is 5 in our case today.\n",
    "\n",
    "Depending on what kind of data we have, portfolio formation can involve different steps.\n",
    "\n",
    "### Exercise: Pull a Portfolio (Yahoo! Finance)\n",
    "\n",
    "In this exercise, you'll pull Yahoo Finance data into panel data using yfinance.\n",
    "\n",
    "Here is an example of how we could join together data from multiple CSV files. Can you adapt this code to instead join together data pulled directly from Yahoo Finance?\n",
    "\n",
    "```python\n",
    "tickers = [\"TSLA\", \"MSFT\", \"AMZN\", \"META\", \"NVDA\"]\n",
    "groups = []\n",
    "\n",
    "for ticker in tickers:\n",
    "    data = pd.read_csv(ticker + \"_2020.csv\")\n",
    "    df.columns = df.columns.droplevel(1)\n",
    "    data.insert(0, \"Ticker\", ticker)\n",
    "    groups.append(data)\n",
    "\n",
    "multi_df = pd.concat(data)\n",
    "multi_df\n",
    "```\n",
    "\n",
    "Try it out in the code cell below:"
   ]
  },
  {
   "cell_type": "code",
   "execution_count": 2,
   "metadata": {},
   "outputs": [],
   "source": [
    "## YOUR CODE GOES HERE"
   ]
  },
  {
   "attachments": {},
   "cell_type": "markdown",
   "metadata": {},
   "source": [
    "#### Multi-Stock Time Series Data (CRSP)\n",
    "\n",
    "Maybe instead of Yahoo! Finance, you took advantage of the [College WRDS access](https://www.imperial.ac.uk/admin-services/library/subject-support/business/crsp/), or obtained a CSV with your data in some other way.\n",
    "\n",
    "Let's work with our panel data as before."
   ]
  },
  {
   "cell_type": "code",
   "execution_count": 3,
   "metadata": {},
   "outputs": [],
   "source": [
    "df = pd.read_csv(\"../data/top_six_2020_2025.csv\", dayfirst=True)"
   ]
  },
  {
   "cell_type": "code",
   "execution_count": 8,
   "metadata": {},
   "outputs": [
    {
     "data": {
      "application/vnd.microsoft.datawrangler.viewer.v0+json": {
       "columns": [
        {
         "name": "DlyCalDt",
         "rawType": "object",
         "type": "string"
        },
        {
         "name": "AAPL",
         "rawType": "float64",
         "type": "float"
        },
        {
         "name": "AMZN",
         "rawType": "float64",
         "type": "float"
        },
        {
         "name": "GOOGL",
         "rawType": "float64",
         "type": "float"
        },
        {
         "name": "META",
         "rawType": "float64",
         "type": "float"
        },
        {
         "name": "MSFT",
         "rawType": "float64",
         "type": "float"
        }
       ],
       "ref": "c735e8cd-3ebd-4822-a732-be8314d142eb",
       "rows": [
        [
         "01/02/2021",
         "130.85382080078125",
         "167.1439971923828",
         "94.08921813964844",
         "260.78094482421875",
         "230.7628173828125"
        ],
        [
         "01/02/2022",
         "171.38243103027344",
         "151.19349670410156",
         "136.8234100341797",
         "317.5036315917969",
         "299.80206298828125"
        ],
        [
         "01/02/2023",
         "143.5702362060547",
         "105.1500015258789",
         "99.8312759399414",
         "152.4017333984375",
         "247.7166748046875"
        ],
        [
         "01/02/2024",
         "185.5015411376953",
         "159.27999877929688",
         "140.31846618652344",
         "392.9281311035156",
         "399.2480163574219"
        ],
        [
         "01/03/2021",
         "124.84567260742188",
         "157.3070068359375",
         "102.86608123779295",
         "263.6673583984375",
         "228.6787872314453"
        ],
        [
         "01/03/2022",
         "160.3874053955078",
         "151.14199829101562",
         "133.2622833251953",
         "202.5354461669922",
         "286.98492431640625"
        ],
        [
         "01/03/2023",
         "143.67080688476562",
         "92.16999816894533",
         "89.8213119506836",
         "172.60650634765625",
         "241.9702911376953"
        ],
        [
         "01/03/2024",
         "178.58148193359375",
         "178.22000122070312",
         "136.32241821289062",
         "500.4741821289063",
         "411.5962219238281"
        ],
        [
         "01/04/2020",
         "58.38724136352539",
         "95.38500213623048",
         "54.776485443115234",
         "158.85134887695312",
         "145.32968139648438"
        ],
        [
         "01/04/2021",
         "120.16602325439452",
         "158.0500030517578",
         "105.8541488647461",
         "297.259033203125",
         "233.9001922607422"
        ],
        [
         "01/04/2022",
         "171.3059844970703",
         "163.55999755859375",
         "139.31497192382812",
         "223.79527282714844",
         "301.0641784667969"
        ],
        [
         "01/04/2024",
         "169.00927734375",
         "180.97000122070312",
         "154.5630645751953",
         "489.5640258789063",
         "420.58099365234375"
        ],
        [
         "01/05/2020",
         "70.05935668945312",
         "114.302001953125",
         "65.47332763671875",
         "201.32118225097656",
         "166.7884979248047"
        ],
        [
         "01/05/2023",
         "167.67691040039062",
         "102.0500030517578",
         "106.5609130859375",
         "242.0392608642578",
         "300.22509765625"
        ],
        [
         "01/05/2024",
         "168.28366088867188",
         "179.0",
         "162.8831329345703",
         "437.5935974121094",
         "391.22943115234375"
        ],
        [
         "01/06/2020",
         "78.2151107788086",
         "123.552001953125",
         "71.3157958984375",
         "230.8221435546875",
         "175.1667938232422"
        ],
        [
         "01/06/2021",
         "121.62276458740234",
         "160.9324951171875",
         "118.3492202758789",
         "327.58612060546875",
         "239.3254547119141"
        ],
        [
         "01/06/2022",
         "146.36187744140625",
         "121.68399810791016",
         "113.21302032470705",
         "187.75511169433597",
         "265.6807556152344"
        ],
        [
         "01/06/2023",
         "178.30474853515625",
         "122.7699966430664",
         "122.98243713378906",
         "271.33123779296875",
         "327.4877014160156"
        ],
        [
         "01/07/2020",
         "88.48501586914062",
         "143.93499755859375",
         "71.670166015625",
         "236.4356842041016",
         "196.12013244628903"
        ],
        [
         "01/07/2021",
         "134.33502197265625",
         "171.64849853515625",
         "121.71453857421876",
         "352.7276306152344",
         "262.7356262207031"
        ],
        [
         "01/07/2022",
         "136.73629760742188",
         "109.55999755859376",
         "108.08924865722656",
         "159.27931213378906",
         "253.15838623046875"
        ],
        [
         "01/07/2024",
         "215.7410430908203",
         "197.1999969482422",
         "182.10784912109372",
         "503.34478759765625",
         "453.2549133300781"
        ],
        [
         "01/08/2022",
         "158.95977783203125",
         "135.38999938964844",
         "114.1752471923828",
         "159.17977905273438",
         "271.1324462890625"
        ],
        [
         "01/08/2023",
         "193.67092895507807",
         "131.69000244140625",
         "130.7657470703125",
         "321.1961669921875",
         "331.190185546875"
        ],
        [
         "01/08/2024",
         "217.34356689453125",
         "184.07000732421875",
         "169.93679809570312",
         "496.4231567382813",
         "413.9363403320313"
        ],
        [
         "01/09/2020",
         "130.66738891601562",
         "174.95599365234375",
         "82.26065826416016",
         "294.0541381835937",
         "218.27047729492188"
        ],
        [
         "01/09/2021",
         "149.4727783203125",
         "173.9499969482422",
         "144.34979248046875",
         "380.2578430175781",
         "292.53790283203125"
        ],
        [
         "01/09/2022",
         "155.6817626953125",
         "127.81999969482422",
         "109.08576965332033",
         "164.58432006835938",
         "254.49710083007807"
        ],
        [
         "01/09/2023",
         "187.83518981933597",
         "138.1199951171875",
         "134.85125732421875",
         "294.9897155761719",
         "324.3129272460937"
        ],
        [
         "01/10/2020",
         "113.73263549804688",
         "161.06300354003906",
         "73.95147705078125",
         "265.3792724609375",
         "204.0469512939453"
        ],
        [
         "01/10/2021",
         "139.80914306640625",
         "164.16299438476562",
         "135.72898864746094",
         "341.4010009765625",
         "280.1998596191406"
        ],
        [
         "01/10/2024",
         "225.4176483154297",
         "185.1300048828125",
         "166.405517578125",
         "575.4933471679688",
         "418.24163818359375"
        ],
        [
         "01/11/2021",
         "145.99351501464844",
         "165.90550231933594",
         "142.6415252685547",
         "328.4320983886719",
         "319.2300720214844"
        ],
        [
         "01/11/2022",
         "148.47720336914062",
         "96.79000091552734",
         "89.93065643310547",
         "94.75341796875",
         "222.9976959228516"
        ],
        [
         "01/11/2023",
         "172.47802734375",
         "137.0",
         "125.69615173339844",
         "310.3871154785156",
         "341.4926452636719"
        ],
        [
         "01/11/2024",
         "222.1291961669922",
         "197.92999267578125",
         "170.69044494628906",
         "566.1990966796875",
         "407.981689453125"
        ],
        [
         "01/12/2020",
         "119.71359252929688",
         "161.00399780273438",
         "89.23284149169922",
         "285.205810546875",
         "208.1920928955078"
        ],
        [
         "01/12/2021",
         "161.72433471679688",
         "172.18600463867188",
         "140.2106170654297",
         "309.1430053710937",
         "320.5035400390625"
        ],
        [
         "01/12/2022",
         "146.41342163085938",
         "95.5",
         "100.38794708251952",
         "119.87503814697266",
         "249.61802673339844"
        ],
        [
         "01/12/2023",
         "189.84971618652344",
         "147.02999877929688",
         "131.0738983154297",
         "323.2963256835937",
         "370.3065490722656"
        ],
        [
         "02/01/2020",
         "72.62083435058594",
         "94.90049743652344",
         "68.02601623535156",
         "208.7959442138672",
         "153.04232788085938"
        ],
        [
         "02/01/2024",
         "184.29042053222656",
         "149.92999267578125",
         "137.34628295898438",
         "344.6656188964844",
         "366.7073974609375"
        ],
        [
         "02/02/2021",
         "131.6829833984375",
         "169.0",
         "95.38394927978516",
         "265.8271179199219",
         "230.62803649902344"
        ],
        [
         "02/02/2022",
         "172.58969116210938",
         "150.6125030517578",
         "147.11769104003906",
         "321.4848327636719",
         "304.3656921386719"
        ],
        [
         "02/02/2023",
         "148.891357421875",
         "112.91000366210938",
         "107.09769439697266",
         "187.88449096679688",
         "259.3306884765625"
        ],
        [
         "02/02/2024",
         "184.4989013671875",
         "171.80999755859375",
         "141.53118896484375",
         "472.7618713378906",
         "406.6045227050781"
        ],
        [
         "02/03/2020",
         "72.41996002197266",
         "97.69750213623048",
         "68.90277099609375",
         "195.51852416992188",
         "165.08782958984375"
        ],
        [
         "02/03/2021",
         "122.2371597290039",
         "154.72650146484375",
         "102.60862731933594",
         "257.7850952148437",
         "225.71583557128903"
        ],
        [
         "02/03/2022",
         "163.68951416015625",
         "152.05250549316406",
         "133.76925659179688",
         "207.1337738037109",
         "292.08349609375"
        ]
       ],
       "shape": {
        "columns": 5,
        "rows": 1257
       }
      },
      "text/html": [
       "<div>\n",
       "<style scoped>\n",
       "    .dataframe tbody tr th:only-of-type {\n",
       "        vertical-align: middle;\n",
       "    }\n",
       "\n",
       "    .dataframe tbody tr th {\n",
       "        vertical-align: top;\n",
       "    }\n",
       "\n",
       "    .dataframe thead th {\n",
       "        text-align: right;\n",
       "    }\n",
       "</style>\n",
       "<table border=\"1\" class=\"dataframe\">\n",
       "  <thead>\n",
       "    <tr style=\"text-align: right;\">\n",
       "      <th>Ticker</th>\n",
       "      <th>AAPL</th>\n",
       "      <th>AMZN</th>\n",
       "      <th>GOOGL</th>\n",
       "      <th>META</th>\n",
       "      <th>MSFT</th>\n",
       "    </tr>\n",
       "    <tr>\n",
       "      <th>DlyCalDt</th>\n",
       "      <th></th>\n",
       "      <th></th>\n",
       "      <th></th>\n",
       "      <th></th>\n",
       "      <th></th>\n",
       "    </tr>\n",
       "  </thead>\n",
       "  <tbody>\n",
       "    <tr>\n",
       "      <th>01/02/2021</th>\n",
       "      <td>130.853821</td>\n",
       "      <td>167.143997</td>\n",
       "      <td>94.089218</td>\n",
       "      <td>260.780945</td>\n",
       "      <td>230.762817</td>\n",
       "    </tr>\n",
       "    <tr>\n",
       "      <th>01/02/2022</th>\n",
       "      <td>171.382431</td>\n",
       "      <td>151.193497</td>\n",
       "      <td>136.823410</td>\n",
       "      <td>317.503632</td>\n",
       "      <td>299.802063</td>\n",
       "    </tr>\n",
       "    <tr>\n",
       "      <th>01/02/2023</th>\n",
       "      <td>143.570236</td>\n",
       "      <td>105.150002</td>\n",
       "      <td>99.831276</td>\n",
       "      <td>152.401733</td>\n",
       "      <td>247.716675</td>\n",
       "    </tr>\n",
       "    <tr>\n",
       "      <th>01/02/2024</th>\n",
       "      <td>185.501541</td>\n",
       "      <td>159.279999</td>\n",
       "      <td>140.318466</td>\n",
       "      <td>392.928131</td>\n",
       "      <td>399.248016</td>\n",
       "    </tr>\n",
       "    <tr>\n",
       "      <th>01/03/2021</th>\n",
       "      <td>124.845673</td>\n",
       "      <td>157.307007</td>\n",
       "      <td>102.866081</td>\n",
       "      <td>263.667358</td>\n",
       "      <td>228.678787</td>\n",
       "    </tr>\n",
       "    <tr>\n",
       "      <th>...</th>\n",
       "      <td>...</td>\n",
       "      <td>...</td>\n",
       "      <td>...</td>\n",
       "      <td>...</td>\n",
       "      <td>...</td>\n",
       "    </tr>\n",
       "    <tr>\n",
       "      <th>31/10/2022</th>\n",
       "      <td>151.128387</td>\n",
       "      <td>102.440002</td>\n",
       "      <td>93.946579</td>\n",
       "      <td>92.723000</td>\n",
       "      <td>226.867950</td>\n",
       "    </tr>\n",
       "    <tr>\n",
       "      <th>31/10/2023</th>\n",
       "      <td>169.305481</td>\n",
       "      <td>133.089996</td>\n",
       "      <td>123.340294</td>\n",
       "      <td>299.856750</td>\n",
       "      <td>333.637909</td>\n",
       "    </tr>\n",
       "    <tr>\n",
       "      <th>31/10/2024</th>\n",
       "      <td>225.118683</td>\n",
       "      <td>186.399994</td>\n",
       "      <td>170.511078</td>\n",
       "      <td>566.618469</td>\n",
       "      <td>403.985077</td>\n",
       "    </tr>\n",
       "    <tr>\n",
       "      <th>31/12/2020</th>\n",
       "      <td>129.439331</td>\n",
       "      <td>162.846497</td>\n",
       "      <td>87.109581</td>\n",
       "      <td>271.878632</td>\n",
       "      <td>214.171768</td>\n",
       "    </tr>\n",
       "    <tr>\n",
       "      <th>31/12/2021</th>\n",
       "      <td>174.287720</td>\n",
       "      <td>166.716995</td>\n",
       "      <td>143.988480</td>\n",
       "      <td>334.772247</td>\n",
       "      <td>326.562531</td>\n",
       "    </tr>\n",
       "  </tbody>\n",
       "</table>\n",
       "<p>1257 rows × 5 columns</p>\n",
       "</div>"
      ],
      "text/plain": [
       "Ticker            AAPL        AMZN       GOOGL        META        MSFT\n",
       "DlyCalDt                                                              \n",
       "01/02/2021  130.853821  167.143997   94.089218  260.780945  230.762817\n",
       "01/02/2022  171.382431  151.193497  136.823410  317.503632  299.802063\n",
       "01/02/2023  143.570236  105.150002   99.831276  152.401733  247.716675\n",
       "01/02/2024  185.501541  159.279999  140.318466  392.928131  399.248016\n",
       "01/03/2021  124.845673  157.307007  102.866081  263.667358  228.678787\n",
       "...                ...         ...         ...         ...         ...\n",
       "31/10/2022  151.128387  102.440002   93.946579   92.723000  226.867950\n",
       "31/10/2023  169.305481  133.089996  123.340294  299.856750  333.637909\n",
       "31/10/2024  225.118683  186.399994  170.511078  566.618469  403.985077\n",
       "31/12/2020  129.439331  162.846497   87.109581  271.878632  214.171768\n",
       "31/12/2021  174.287720  166.716995  143.988480  334.772247  326.562531\n",
       "\n",
       "[1257 rows x 5 columns]"
      ]
     },
     "execution_count": 8,
     "metadata": {},
     "output_type": "execute_result"
    }
   ],
   "source": [
    "# Pivot the DataFrame to wide format with stocks as columns and dates as index\n",
    "df_pivot = df.pivot(index='DlyCalDt', columns='Ticker', values='DlyClose')\n",
    "df_pivot\n",
    "\n",
    "portfolio_stocks = df_pivot.columns[:5] # Just grab the first 5\n",
    "df_pivot = df_pivot[portfolio_stocks]\n",
    "\n",
    "weights = np.ones(5) / 5\n",
    "\n",
    "df_pivot"
   ]
  },
  {
   "attachments": {},
   "cell_type": "markdown",
   "metadata": {},
   "source": [
    "## Calculating Portfolio Daily Returns\n",
    "\n",
    "First, let's determine the returns of our portfolio. We'll need to start with the daily returns of each stock, and then use `np.dot()` to mutliply each column of returns against its weight in the portfolio."
   ]
  },
  {
   "cell_type": "code",
   "execution_count": 5,
   "metadata": {},
   "outputs": [],
   "source": [
    "# Calculate the simple return of each stock in the portfolio\n",
    "returns = df_pivot.pct_change()\n",
    "returns = returns.dropna()\n",
    "\n",
    "# Compute the portfolio returns\n",
    "portfolio_returns = np.dot(returns, weights)\n",
    "\n",
    "# While we're at it check the daily volatility (standard deviation of portfolio returns)\n",
    "daily_volatility = portfolio_returns.std()"
   ]
  },
  {
   "attachments": {},
   "cell_type": "markdown",
   "metadata": {},
   "source": [
    "## Annualising Returns and Volatility\n",
    "\n",
    "To provide a broader picture of our portfolio's performance, let's calculate the annualised portfolio return and volatility. These are important metrics for evaluating and discussing portfolios. They are also used frequently in more advanced financial analyses."
   ]
  },
  {
   "cell_type": "code",
   "execution_count": 6,
   "metadata": {},
   "outputs": [],
   "source": [
    "# Define the number of trading days in a year\n",
    "trading_days = 252\n",
    "\n",
    "# Annualize the portfolio return\n",
    "annualised_return = portfolio_returns.mean() * trading_days\n",
    "\n",
    "# Annualize the portfolio volatility\n",
    "annualised_volatility = daily_volatility * np.sqrt(trading_days)"
   ]
  },
  {
   "attachments": {},
   "cell_type": "markdown",
   "metadata": {},
   "source": [
    "## Sharpe Ratio\n",
    "\n",
    "The Sharpe Ratio is a measure that helps investors understand the risk-adjusted return of an investment. A high Sharpe ratio indicates that the portfolio's returns are higher for each unit of risk taken on. In contrast, a lower Sharpe Ratio indicates a less favorable risk-reward trade-off, with the potential for lower returns relative to the amount of risk being assumed.\n",
    "\n",
    "The Sharpe Ratio is calculated using annualised portfolio returns, portfolio volatility (as the measure of risk), and the *risk-free rate*. The risk-free rate is often derived from the yield of a theoretically risk-free investment, typically a government bond. The Sharpe Ratio is the average return earned in excess of the risk-free rate per unit of volatility or total risk."
   ]
  },
  {
   "attachments": {},
   "cell_type": "markdown",
   "metadata": {},
   "source": [
    "### Exercise: Looking Sharpe\n",
    "\n",
    "Calculate the Sharpe Ratio for our portfolio by applying the formula below.\n",
    "\n",
    "$$ \\text{Sharpe Ratio} = \\frac{R_p - R_f}{\\sigma_p} $$\n",
    "\n",
    "- $R_p$ is our annualised portfolio return\n",
    "- $R_f$ is the risk-free rate\n",
    "- $\\sigma_p$ is our annualised volatility\n"
   ]
  },
  {
   "cell_type": "code",
   "execution_count": 7,
   "metadata": {},
   "outputs": [],
   "source": [
    "## YOUR CODE GOES HERE"
   ]
  }
 ],
 "metadata": {
  "kernelspec": {
   "display_name": "Python 3",
   "language": "python",
   "name": "python3"
  },
  "language_info": {
   "codemirror_mode": {
    "name": "ipython",
    "version": 3
   },
   "file_extension": ".py",
   "mimetype": "text/x-python",
   "name": "python",
   "nbconvert_exporter": "python",
   "pygments_lexer": "ipython3",
   "version": "3.12.1"
  }
 },
 "nbformat": 4,
 "nbformat_minor": 2
}
